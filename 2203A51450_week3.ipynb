{
 "cells": [
  {
   "cell_type": "code",
   "execution_count": 5,
   "metadata": {},
   "outputs": [
    {
     "name": "stdout",
     "output_type": "stream",
     "text": [
      "The value of the root node A after applying Min-Max is 4\n"
     ]
    }
   ],
   "source": [
    "# Define the tree in terms of a dictionary\n",
    "tree = {\n",
    "    'A': {'B': {'D': {'H': -1, 'I': 4}, 'E': {'J': 2, 'K': 6}},\n",
    "          'C': {'F': {'L': -3, 'M': -5}, 'G': {'N': 0, 'O': 7}}\n",
    "         }\n",
    "}\n",
    "\n",
    "def min_max(node, maximizing_player=True):\n",
    "    if type(node) is not dict:\n",
    "        return node\n",
    "    if maximizing_player:\n",
    "        return max(min_max(child, False) for child in node.values())\n",
    "    else:\n",
    "        return min(min_max(child, True) for child in node.values())\n",
    "\n",
    "# Call the function on the root of the tree\n",
    "result = min_max(tree['A'])\n",
    "print(f\"The value of the root node A after applying Min-Max is {result}\")"
   ]
  },
  {
   "cell_type": "code",
   "execution_count": 6,
   "metadata": {},
   "outputs": [
    {
     "name": "stdout",
     "output_type": "stream",
     "text": [
      "The value of the root node A after applying Alpha-Beta pruning is 4\n"
     ]
    }
   ],
   "source": [
    "# Define the tree in terms of a dictionary\n",
    "tree = {\n",
    "    'A': {'B': {'D': {'H': -1, 'I': 4}, 'E': {'J': 2, 'K': 6}},\n",
    "          'C': {'F': {'L': -3, 'M': -5}, 'G': {'N': 0, 'O': 7}}\n",
    "         }\n",
    "}\n",
    "\n",
    "def alpha_beta(node, alpha, beta, maximizing_player=True):\n",
    "    if type(node) is not dict:\n",
    "        return node\n",
    "    if maximizing_player:\n",
    "        max_val = float('-inf')\n",
    "        for child in node.values():\n",
    "            value = alpha_beta(child, alpha, beta, False)\n",
    "            max_val = max(max_val, value)\n",
    "            alpha = max(alpha, value)\n",
    "            if beta <= alpha:\n",
    "                break\n",
    "        return max_val\n",
    "    else:\n",
    "        min_val = float('inf')\n",
    "        for child in node.values():\n",
    "            value = alpha_beta(child, alpha, beta, True)\n",
    "            min_val = min(min_val, value)\n",
    "            beta = min(beta, value)\n",
    "            if beta <= alpha:\n",
    "                break\n",
    "        return min_val\n",
    "\n",
    "# Call the function on the root of the tree\n",
    "result = alpha_beta(tree['A'], float('-inf'), float('inf'))\n",
    "print(f\"The value of the root node A after applying Alpha-Beta pruning is {result}\")"
   ]
  }
 ],
 "metadata": {
  "kernelspec": {
   "display_name": "Python 3",
   "language": "python",
   "name": "python3"
  },
  "language_info": {
   "codemirror_mode": {
    "name": "ipython",
    "version": 3
   },
   "file_extension": ".py",
   "mimetype": "text/x-python",
   "name": "python",
   "nbconvert_exporter": "python",
   "pygments_lexer": "ipython3",
   "version": "3.10.13"
  }
 },
 "nbformat": 4,
 "nbformat_minor": 2
}
