{
  "cells": [
    {
      "cell_type": "code",
      "execution_count": null,
      "metadata": {
        "colab": {
          "base_uri": "https://localhost:8080/"
        },
        "id": "QbvBPTeKyHAV",
        "outputId": "6a7a33c3-2f19-4750-aff8-751ca05c3183"
      },
      "outputs": [
        {
          "ename": "",
          "evalue": "",
          "output_type": "error",
          "traceback": [
            "\u001b[1;31mRunning cells with 'c:\\Users\\irfan\\AppData\\Local\\Programs\\Python\\Python310\\python.exe' requires the ipykernel package.\n",
            "\u001b[1;31mRun the following command to install 'ipykernel' into the Python environment. \n",
            "\u001b[1;31mCommand: 'c:/Users/irfan/AppData/Local/Programs/Python/Python310/python.exe -m pip install ipykernel -U --user --force-reinstall'"
          ]
        }
      ],
      "source": [
        "import pandas as pd\n",
        "file_path = '/content/drive/MyDrive/dataset.csv'\n",
        "df_csv = pd.read_csv(file_path)\n",
        "print(df_csv)"
      ]
    },
    {
      "cell_type": "code",
      "execution_count": null,
      "metadata": {
        "colab": {
          "base_uri": "https://localhost:8080/"
        },
        "id": "AJiQfAklDPaQ",
        "outputId": "c3c1dc54-97ca-484d-a4a4-07e3fdfeb54b"
      },
      "outputs": [
        {
          "ename": "",
          "evalue": "",
          "output_type": "error",
          "traceback": [
            "\u001b[1;31mRunning cells with 'c:\\Users\\irfan\\AppData\\Local\\Programs\\Python\\Python310\\python.exe' requires the ipykernel package.\n",
            "\u001b[1;31mRun the following command to install 'ipykernel' into the Python environment. \n",
            "\u001b[1;31mCommand: 'c:/Users/irfan/AppData/Local/Programs/Python/Python310/python.exe -m pip install ipykernel -U --user --force-reinstall'"
          ]
        }
      ],
      "source": [
        "fp = '/content/drive/MyDrive/dataset1.xlsx'\n",
        "df_excel = pd.read_excel(fp)\n",
        "print(df_excel)"
      ]
    },
    {
      "cell_type": "code",
      "execution_count": 8,
      "metadata": {
        "colab": {
          "base_uri": "https://localhost:8080/"
        },
        "id": "JcFEG8MUDW6M",
        "outputId": "7636d2ca-d75b-4a72-bd29-91aeb8871679"
      },
      "outputs": [
        {
          "name": "stdout",
          "output_type": "stream",
          "text": [
            "   pizza_id\\tpizza_name_id\\t\\tquantity\\tpizza_name\n",
            "0                     1\\thawaiian_m\\t1\\tM\\tClassic\n",
            "1                  2\\tclassic_dlx_m\\t1\\tM\\tClassic\n",
            "2                   3\\tfive_cheese_l\\t1\\tL\\tVeggie\n",
            "3                    4\\tital_supr_l\\t1\\tL\\tSupreme\n",
            "4                      5\\tmexicana_m\\t1\\tM\\tVeggie\n",
            "5                     6\\tthai_ckn_l\\t1\\tL\\tChicken\n",
            "6                    7\\tital_supr_m\\t1\\tM\\tSupreme\n",
            "7                   8\\tprsc_argla_l\\t1\\tL\\tSupreme\n",
            "8                    9\\tital_supr_m\\t1\\tM\\tSupreme\n",
            "9                   10\\tital_supr_m\\t1\\tM\\tSupreme\n",
            "10                    11\\tbbq_ckn_s\\t1\\tS\\tChicken\n",
            "11                  12\\tthe_greek_s\\t1\\tS\\tClassic\n",
            "12               13\\tspinach_supr_s\\t1\\tS\\tSupreme\n",
            "13               14\\tspinach_supr_s\\t1\\tS\\tSupreme\n",
            "14                15\\tclassic_dlx_s\\t1\\tS\\tClassic\n",
            "15                16\\tgreen_garden_s\\t1\\tS\\tVeggie\n",
            "16                17\\tital_cpcllo_l\\t1\\tL\\tClassic\n",
            "17                  18\\tital_supr_l\\t1\\tL\\tSupreme\n",
            "18                  19\\tital_supr_s\\t1\\tS\\tSupreme\n",
            "19                    20\\tmexicana_s\\t1\\tS\\tVeggie\n",
            "20                 21\\tspicy_ital_l\\t1\\tL\\tSupreme\n",
            "21                  22\\tspin_pesto_l\\t1\\tL\\tVeggie\n",
            "22                  23\\tveggie_veg_s\\t1\\tS\\tVeggie\n",
            "23                    24\\tmexicana_l\\t1\\tL\\tVeggie\n"
          ]
        }
      ],
      "source": [
        "tsv_file_path ='/content/drive/MyDrive/dataset.tsv'\n",
        "df_tsv = pd.read_csv(tsv_file_path)\n",
        "print(df_tsv)"
      ]
    }
  ],
  "metadata": {
    "colab": {
      "provenance": []
    },
    "kernelspec": {
      "display_name": "Python 3",
      "name": "python3"
    },
    "language_info": {
      "name": "python",
      "version": "3.10.4"
    }
  },
  "nbformat": 4,
  "nbformat_minor": 0
}
