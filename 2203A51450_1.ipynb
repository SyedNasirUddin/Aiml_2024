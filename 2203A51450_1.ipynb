{
 "cells": [
  {
   "cell_type": "code",
   "execution_count": 1,
   "metadata": {},
   "outputs": [],
   "source": [
    "from collections import deque\n",
    "\n",
    "def bfs(graph, start):\n",
    "    visited = set()  \n",
    "    queue = deque([start])  \n",
    "    visited.add(start)  \n",
    "    \n",
    "    while queue:  \n",
    "        vertex = queue.popleft()  \n",
    "        print(vertex, end=' ')  \n",
    "        for neighbor in graph[vertex]:\n",
    "            if neighbor not in visited:\n",
    "                visited.add(neighbor)  \n",
    "                queue.append(neighbor)  \n",
    "graph = {\n",
    "    0: [1, 3],\n",
    "    1: [0, 3, 2],\n",
    "    2: [4, 5],\n",
    "    3: [0,1,4],\n",
    "    4: [2,3,5],\n",
    "    5: [2,4]\n",
    "}\n",
    "start_vertex = 0  \n",
    "print(\"BFS Traversal:\")\n",
    "bfs(graph, start_vertex)\n"
   ]
  }
 ],
 "metadata": {
  "kernelspec": {
   "display_name": "Python 3",
   "language": "python",
   "name": "python3"
  },
  "language_info": {
   "codemirror_mode": {
    "name": "ipython",
    "version": 3
   },
   "file_extension": ".py",
   "mimetype": "text/x-python",
   "name": "python",
   "nbconvert_exporter": "python",
   "pygments_lexer": "ipython3",
   "version": "3.10.13"
  }
 },
 "nbformat": 4,
 "nbformat_minor": 2
}
