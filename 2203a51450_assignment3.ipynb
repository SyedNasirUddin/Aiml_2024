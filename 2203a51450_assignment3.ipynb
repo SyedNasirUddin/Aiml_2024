def dfs(g, start, visited=None):
    if visited is None:
        visited = set()

    visited.add(start)
    print(start)

    for neighbor in g [start]:
        if neighbor not in visited:
            dfs(g, neighbor, visited)

g= {
  'A':['B','S'],
  'B':['A'],
  'S':['A','C','G'],
  'C':['D','E','F','S'],
  'D':['C'],
  'E':['C','H'],
  'F':['C','G'],
  'G':['S','F','H'],
  'H':['E','G']


}

starting_vertex = 'A'

dfs(g, starting_vertex)
