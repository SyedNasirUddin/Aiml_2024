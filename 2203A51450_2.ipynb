{
 "cells": [
  {
   "cell_type": "code",
   "execution_count": 1,
   "metadata": {},
   "outputs": [
    {
     "name": "stdout",
     "output_type": "stream",
     "text": [
      "A\n",
      "B\n",
      "S\n",
      "C\n",
      "D\n",
      "E\n",
      "H\n",
      "G\n",
      "F\n"
     ]
    }
   ],
   "source": [
    "def dfs(g, start, visited=None):\n",
    "    if visited is None:\n",
    "        visited = set()\n",
    "\n",
    "    visited.add(start)\n",
    "    print(start)\n",
    "\n",
    "    for neighbor in g [start]:\n",
    "        if neighbor not in visited:\n",
    "            dfs(g, neighbor, visited)\n",
    "\n",
    "g= {\n",
    "  'A':['B','S'],\n",
    "  'B':['A'],\n",
    "  'S':['A','C','G'],\n",
    "  'C':['D','E','F','S'],\n",
    "  'D':['C'],\n",
    "  'E':['C','H'],\n",
    "  'F':['C','G'],\n",
    "  'G':['S','F','H'],\n",
    "  'H':['E','G']\n",
    "\n",
    "\n",
    "}\n",
    "\n",
    "starting_vertex = 'A'\n",
    "\n",
    "dfs(g, starting_vertex)"
   ]
  }
 ],
 "metadata": {
  "kernelspec": {
   "display_name": "Python 3",
   "language": "python",
   "name": "python3"
  },
  "language_info": {
   "codemirror_mode": {
    "name": "ipython",
    "version": 3
   },
   "file_extension": ".py",
   "mimetype": "text/x-python",
   "name": "python",
   "nbconvert_exporter": "python",
   "pygments_lexer": "ipython3",
   "version": "3.10.13"
  }
 },
 "nbformat": 4,
 "nbformat_minor": 2
}
